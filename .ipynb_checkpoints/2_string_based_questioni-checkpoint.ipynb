{
 "cells": [
  {
   "cell_type": "code",
   "execution_count": 1,
   "id": "08aacb2b-a69e-4f02-9547-a00b5a89239b",
   "metadata": {},
   "outputs": [
    {
     "name": "stdin",
     "output_type": "stream",
     "text": [
      "enter any string :  fdgsdf dfgdf\n"
     ]
    },
    {
     "name": "stdout",
     "output_type": "stream",
     "text": [
      "length of string is :->  12\n"
     ]
    }
   ],
   "source": [
    "# Q-> 1. Write a Python program that takes a string as input and prints the length of\n",
    "        # the string\n",
    "    \n",
    "str=input(\"enter any string : \")\n",
    "print(\"length of string is :-> \",len(str))"
   ]
  },
  {
   "cell_type": "code",
   "execution_count": 5,
   "id": "4a035bed-73d3-46a4-b635-6d11408ad46a",
   "metadata": {},
   "outputs": [
    {
     "name": "stdin",
     "output_type": "stream",
     "text": [
      "enter any string :  my name is john\n"
     ]
    },
    {
     "name": "stdout",
     "output_type": "stream",
     "text": [
      "total vowel in string is :->  4\n"
     ]
    }
   ],
   "source": [
    "# Q-> 2. Create a program that takes a sentence from the user and counts the number\n",
    "        # of vowels (a, e, i, o, u) in the string.\n",
    "\n",
    "str=input(\"enter any string : \")\n",
    "# lenght=len(str)\n",
    "vowel=\"aeiou\"  #storing vowel as string value\n",
    "count=0\n",
    "i=0\n",
    "while i < len(str): #starting while loop till the length of string\n",
    "    for j in vowel:  #starting for loop till the length of vowel to compare with string\n",
    "        if j==str[i]:   #comparing the each vowel character with string character\n",
    "            count+=1    #increamenting each time when vowel is encountered..\n",
    "    i+=1\n",
    "    \n",
    "print(\"total number vowel in string is :-> \",count)\n",
    "    \n"
   ]
  },
  {
   "cell_type": "code",
   "execution_count": 10,
   "id": "0ba74542-dba2-4585-90e9-37a2d146017f",
   "metadata": {},
   "outputs": [
    {
     "name": "stdin",
     "output_type": "stream",
     "text": [
      "enter any string :  my name is john\n"
     ]
    },
    {
     "name": "stdout",
     "output_type": "stream",
     "text": [
      "reversed string : ->  nhoj si eman ym\n"
     ]
    }
   ],
   "source": [
    "#Q-> 3. Given a string, reverse the order of characters using string slicing and print\n",
    "        # the reversed string.\n",
    "\n",
    "str=input(\"enter any string : \")\n",
    "print(\"reversed string : -> \",str[::-1])  #string slicing method to reverse the string \n",
    "\n",
    "    "
   ]
  },
  {
   "cell_type": "code",
   "execution_count": 13,
   "id": "1735a8d6-7501-4547-9a33-4b85725d83cd",
   "metadata": {},
   "outputs": [
    {
     "name": "stdin",
     "output_type": "stream",
     "text": [
      "enter any string to check palindrome john\n"
     ]
    },
    {
     "name": "stdout",
     "output_type": "stream",
     "text": [
      "john  is not palindrome\n"
     ]
    }
   ],
   "source": [
    "# 4. Write a program that takes a string as input and checks if it is a palindrome\n",
    "    # (reads the same forwards and backwards).\n",
    "    \n",
    "    \n",
    "str=input(\"enter any string to check palindrome\")\n",
    "reverse=str[::-1] #reversing the string\n",
    "if(str==reverse):  #checking palindrome if reversed string matches with original string\n",
    "    print(str,\" is palindrome\")\n",
    "else:\n",
    "    print(str,\" is not palindrome\")"
   ]
  },
  {
   "cell_type": "code",
   "execution_count": 16,
   "id": "4956e322-5694-4900-88be-7bcd7855b366",
   "metadata": {},
   "outputs": [
    {
     "name": "stdin",
     "output_type": "stream",
     "text": [
      "enter any string value  john is my name\n"
     ]
    },
    {
     "name": "stdout",
     "output_type": "stream",
     "text": [
      "johnismyname\n"
     ]
    }
   ],
   "source": [
    "#Q-> 5. Create a program that takes a string as input and removes all the spaces from\n",
    "    # it. Print the modified string without spaces\n",
    "    \n",
    "    \n",
    "str=input(\"enter any string value \")\n",
    "# using replace function ......method 1\n",
    "str1=str.replace(\" \",\"\")  \n",
    "print(\"this is method 1 :->  \",str1)\n",
    "\n",
    "\n",
    "#using for loop           ....method 2\n",
    "str2=\"\"\n",
    "for i in str:\n",
    "    if i!=\" \":\n",
    "        str2=str2+i\n",
    "print(\"this is method 2: -> \",str2)\n",
    "\n",
    "\n",
    "\n",
    "\n"
   ]
  },
  {
   "cell_type": "code",
   "execution_count": null,
   "id": "e8cde0f5-9767-4041-be34-a91797d1fcca",
   "metadata": {},
   "outputs": [],
   "source": []
  }
 ],
 "metadata": {
  "kernelspec": {
   "display_name": "Python 3 (ipykernel)",
   "language": "python",
   "name": "python3"
  },
  "language_info": {
   "codemirror_mode": {
    "name": "ipython",
    "version": 3
   },
   "file_extension": ".py",
   "mimetype": "text/x-python",
   "name": "python",
   "nbconvert_exporter": "python",
   "pygments_lexer": "ipython3",
   "version": "3.10.8"
  }
 },
 "nbformat": 4,
 "nbformat_minor": 5
}
