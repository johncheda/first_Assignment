{
 "cells": [
  {
   "cell_type": "code",
   "execution_count": 3,
   "id": "2bd18069-42e8-496d-89da-f4b6d48852ff",
   "metadata": {},
   "outputs": [
    {
     "name": "stdout",
     "output_type": "stream",
     "text": [
      "original data\n",
      "5\n",
      "10\n",
      "swapped data\n",
      "10\n",
      "5\n"
     ]
    }
   ],
   "source": [
    "#first assignment 19 august 2023 .....\n",
    " #Q -> 1. Declare two variables, `x` and `y`, and assign them integer values. Swap the values of these variables\n",
    "    # without using any temporary variable.\n",
    "        \n",
    "var1,var2=5,10\n",
    "print(\"original data\")\n",
    "print(var1)\n",
    "print(var2)\n",
    "\n",
    "#Swapping\n",
    "var2=var2+var1\n",
    "var1=var2-var1\n",
    "var2=var2-var1\n",
    "\n",
    "print(\"swapped data\")\n",
    "print(var1)\n",
    "print(var2)\n",
    "\n",
    "    \n"
   ]
  },
  {
   "cell_type": "code",
   "execution_count": 11,
   "id": "be7b5e02-a04b-4bfa-8d9e-c15056cd9f44",
   "metadata": {},
   "outputs": [
    {
     "name": "stdout",
     "output_type": "stream",
     "text": [
      "program to calculate the area of ractangle...\n"
     ]
    },
    {
     "name": "stdin",
     "output_type": "stream",
     "text": [
      "enter the lenght of ractangle 9\n",
      "enter the  breadth of ractangle 6\n"
     ]
    },
    {
     "name": "stdout",
     "output_type": "stream",
     "text": [
      "area of Rectangle :  54\n"
     ]
    }
   ],
   "source": [
    "#Q-> 2. Create a program that calculates the area of a rectangle. Take the length and\n",
    "         #width as inputs from the user and store them in variables. Calculate and\n",
    "         #display the area....\n",
    "print(\"program to calculate the area of ractangle...\")\n",
    "length=int(input(\"enter the lenght of ractangle\"))\n",
    "breadth=int(input(\"enter the  breadth of ractangle\"))\n",
    "\n",
    "#area of rectangle= length X breadth\n",
    "\n",
    "Area_R=length*breadth\n",
    "print(\"area of Rectangle : \",Area_R)\n",
    "# print(length)\n",
    "# print(breadth)\n"
   ]
  },
  {
   "cell_type": "code",
   "execution_count": 13,
   "id": "8d1098b7-687d-4fe4-883e-f1b8ce8e6d02",
   "metadata": {},
   "outputs": [
    {
     "name": "stdout",
     "output_type": "stream",
     "text": [
      "python program to convert temperature from celsius to fahrenheit\n"
     ]
    },
    {
     "name": "stdin",
     "output_type": "stream",
     "text": [
      "please enter your temperature degree in celsius ->  2\n"
     ]
    },
    {
     "name": "stdout",
     "output_type": "stream",
     "text": [
      "Temperature in Fahrenheit :->  35.6\n"
     ]
    }
   ],
   "source": [
    "#Q-> 3. Write a Python program that converts temperatures from Celsius to\n",
    "      #Fahrenheit. Take the temperature in Celsius as input, store it in a variable,\n",
    "       #convert it to Fahrenheit, and display the result.\n",
    "        \n",
    "print(\"python program to convert temperature from celsius to fahrenheit\")\n",
    "celsius=int(input(\"please enter your temperature degree in celsius -> \")) #int function is used to change the datatype of string from input function\n",
    "\n",
    "# formula fahrenheit=celsius degree *9/5+32\n",
    "\n",
    "fahrenheit=celsius * 9/5 +32\n",
    "print(\"Temperature in Fahrenheit :-> \",fahrenheit)  #printing variables and strings"
   ]
  },
  {
   "cell_type": "code",
   "execution_count": null,
   "id": "2d80c4c9-db4a-41a9-8d07-d1e5327745d3",
   "metadata": {},
   "outputs": [],
   "source": []
  }
 ],
 "metadata": {
  "kernelspec": {
   "display_name": "Python 3 (ipykernel)",
   "language": "python",
   "name": "python3"
  },
  "language_info": {
   "codemirror_mode": {
    "name": "ipython",
    "version": 3
   },
   "file_extension": ".py",
   "mimetype": "text/x-python",
   "name": "python",
   "nbconvert_exporter": "python",
   "pygments_lexer": "ipython3",
   "version": "3.10.8"
  }
 },
 "nbformat": 4,
 "nbformat_minor": 5
}
